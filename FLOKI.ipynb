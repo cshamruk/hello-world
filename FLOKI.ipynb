{
  "nbformat": 4,
  "nbformat_minor": 0,
  "metadata": {
    "colab": {
      "name": "Untitled0.ipynb",
      "provenance": [],
      "collapsed_sections": [],
      "authorship_tag": "ABX9TyMd5f1L6akUw6Pk0q2WrUwG",
      "include_colab_link": true
    },
    "kernelspec": {
      "name": "python3",
      "display_name": "Python 3"
    }
  },
  "cells": [
    {
      "cell_type": "markdown",
      "metadata": {
        "id": "view-in-github",
        "colab_type": "text"
      },
      "source": [
        "<a href=\"https://colab.research.google.com/github/cshamruk/hello-world/blob/master/FLOKI.ipynb\" target=\"_parent\"><img src=\"https://colab.research.google.com/assets/colab-badge.svg\" alt=\"Open In Colab\"/></a>"
      ]
    },
    {
      "cell_type": "code",
      "metadata": {
        "id": "7DsL0c5KcOxX",
        "colab_type": "code",
        "colab": {}
      },
      "source": [
        "from google.colab import auth\n",
        "auth.authenticate_user()\n",
        "import gspread\n",
        "from oauth2client.client import GoogleCredentials\n",
        "gc = gspread.authorize(GoogleCredentials.get_application_default())\n"
      ],
      "execution_count": 0,
      "outputs": []
    },
    {
      "cell_type": "code",
      "metadata": {
        "id": "DmNEPJadlHK3",
        "colab_type": "code",
        "colab": {}
      },
      "source": [
        "wb = gc.open_by_url('https://docs.google.com/spreadsheets/d/1VNqMKjtKXiVA8cjOC9vQjaFKzBGyBfwD2EKV4Y1BSCs/edit#gid=164487166b')"
      ],
      "execution_count": 0,
      "outputs": []
    },
    {
      "cell_type": "code",
      "metadata": {
        "id": "sw2Nc76QlR3_",
        "colab_type": "code",
        "colab": {}
      },
      "source": [
        "Price = dict()\n",
        "Capacity = dict()\n",
        "for each in wb.worksheet('S_prices').get_all_values():\n",
        "  Price[each[0]] = [float(p.replace(',','.')) if p else 0. for p in each[1:]]\n",
        "  Capacity[each[0]] = [1 if p else 0 for p in each[1:]]\n",
        "\n",
        "I2K = dict() # equivalence classes conversion matrix\n",
        "for each in wb.worksheet('I_to_K').get_all_values():\n",
        "  I2K[each[0]] = [float(p.replace(',','.')) if p else 0. for p in each[1:]]\n",
        "\n",
        "# procurement requirements\n",
        "Requirements = dict()\n",
        "for each in wb.worksheet('K_req').get_all_values():\n",
        "  Requirements[each[0]] = [float(p.replace(',','.')) for p in each[1:]]\n",
        "\n",
        "S_min_amounts = [float(q) for q in wb.worksheet('S_min_amount').get_all_values()[0]]\n",
        " \n"
      ],
      "execution_count": 0,
      "outputs": []
    },
    {
      "cell_type": "markdown",
      "metadata": {
        "id": "DyRO60OTiXpV",
        "colab_type": "text"
      },
      "source": [
        "The code below declares the variables, the constraints and the objective function to be fed into a GLOP linear solver.\n",
        "\n",
        "Mathematical formulation of the problem:\n",
        "\n",
        "Each of $I$ possible items belongs to one of the $K$ item classes (categories), and can be purchased from one of $S$ suppliers. We use the following variables:\n",
        "\n",
        " - `Deal` - $d_s$ - 0/1 decision of whether to deal with supplier $s$,\n",
        " - `Q` - $ Q_{i s}$ - quantity of item $i$ purchased from supplier $s$, \n",
        " - `Class` - $X_k$ - aggregate quantity of items of class $k$ we have purchased; it is linked to `Q` by the formula $$ X_k = \\sum_i w_{k,i} \\sum_s Q_{i s},$$ where $w_{k,i}$ are stored in `I2K`;\n",
        " - `Deviation` - $Z_k$ - by how much we are missing the target for item class $k$; it is related to `Class` by the formula $$ Z_k = | X_k - \\underline{X}_k |$$ \n",
        " - `Bill` - $C_s$ - the total amount of money paid to supplier $s$, related to quantities $Q_{i s}$ by the formula $$ C_s = \\sum_i P_{i s} Q_{i s}$$\n",
        "\n",
        " In addition to the equations above, we introduce constraints\n",
        "\n",
        " - `'Minimum amounts'` - supplier $s$ deals with us if we spend at least $\\underline{C}_s$ (stored in `S_min_amounts`) $$ C_s \\geq \\underline{C}_s \\cdot d_s,$$\n",
        " - `'Max_Q'` - we cannot buy from supplier $s$ more of product $i$ than the quantity $\\overline{Q}_{i s}$ he can deliver (I set the upper limit to 100 for the suppliers that do sell the item) $$ Q_{i s} \\leq \\overline{Q}_{i s} \\cdot d_s, $$\n",
        " - target constraints are hardcoded into the domain of variable `Class` $$ X_k \\in [\\underline{X}_k \\cdot r_k , \\overline{X}_k ]$$, where $r_k = 0$ if we can drop category $k$ from the basket and $1$ otherwise.\n",
        "\n",
        " The objective is dual, to minimize cost and stay close to the target. To accomodate for the duality of the objective, we introduce a vector of Lagrange multipliers $\\lambda_k > 0$  (`item_class_importance`) and write the objective as $$ \\min_{Q, C, Z, X, d} \\sum_s C_s + \\sum_k \\lambda_k Z_k.$$\n",
        "\n",
        " This is an instance of mixed integer programming problem, which is easily solvable by a range of commercial and open-source solvers. \n",
        "\n",
        "\n",
        "---\n",
        "\n"
      ]
    },
    {
      "cell_type": "code",
      "metadata": {
        "id": "7CJaUl39gaHM",
        "colab_type": "code",
        "colab": {}
      },
      "source": [
        "from ortools.linear_solver import pywraplp\n",
        "\n",
        "def LinearProgrammingExample(item_class_importance=None):\n",
        "    \"\"\"Linear programming sample.\"\"\"\n",
        "    # Instantiate a Glop solver, naming it LinearExample.\n",
        "    solver = pywraplp.Solver('ProcurementFragmented',\n",
        "                             pywraplp.Solver.CBC_MIXED_INTEGER_PROGRAMMING)\n",
        "\n",
        "    S = len(S_min_amounts)\n",
        "    K = len(Requirements['Target order from Client (quantities)'])\n",
        "    if not item_class_importance:\n",
        "      item_class_importance = [100.]*K\n",
        "\n",
        "    # Initialize variables\n",
        "    Deal = dict() # supplier toggle\n",
        "    Q = dict() # item quantities\n",
        "    Class = dict()  # item equivalence classes\n",
        "    Deviation = dict() # deviation from target\n",
        "    Bill = dict() # payment to the store\n",
        "\n",
        "    Constraints = dict()\n",
        "    Constraints['Minimum amounts'] = dict()\n",
        "    Constraints['Max_Q'] = dict()\n",
        "    Constraints['Min_Q'] = dict()\n",
        "    Constraints['Bill definition'] = dict()\n",
        "    \n",
        "    for s in range(S): # for each shop\n",
        "\n",
        "      # set Deal variable\n",
        "      Deal[s] = solver.IntVar(0,1,f'Deal with supplier {s}') \n",
        "\n",
        "      # set the Bill variable\n",
        "      Bill[s] = solver.NumVar(0.,solver.infinity(),f'Payment to supplier {s}') \n",
        "      Constraints['Bill definition'][s] = solver.Constraint(0., 0.)\n",
        "      Constraints['Bill definition'][s].SetCoefficient(Bill[s], -1.)\n",
        "      \n",
        "      # We spend the required amount if we decide to deal with the supplier\n",
        "      Constraints['Minimum amounts'][s] = solver.Constraint(0, solver.infinity())\n",
        "      Constraints['Minimum amounts'][s].SetCoefficient(Deal[s], -S_min_amounts[s])\n",
        "      Constraints['Minimum amounts'][s].SetCoefficient(Bill[s], 1.)\n",
        "\n",
        "      for item in Price.keys():\n",
        "        \n",
        "        # set Purchase Quantity variable\n",
        "        Q[item,s] = solver.IntVar(0,solver.infinity(), item+f' from Supplier {s}') \n",
        "\n",
        "        # Bill_s = sum( price_i_s * Q_i_s )\n",
        "        Constraints['Bill definition'][s].SetCoefficient(Q[item,s],Price[item][s])\n",
        "\n",
        "        # Buy from suppliers that we deal with and that can deliver \n",
        "        # and no more than total amount required\n",
        "        Constraints['Max_Q'][item,s] = solver.Constraint(0., solver.infinity()) \n",
        "        Constraints['Max_Q'][item,s].SetCoefficient(Q[item,s], -1) \n",
        "        Constraints['Max_Q'][item,s].SetCoefficient(Deal[s], 100.*Capacity[item][s])\n",
        "        \n",
        "        \n",
        "    Constraints['DeviationU'], Constraints['DeviationL'] = dict(), dict()\n",
        "    Constraints['Class definition'] = dict()\n",
        "\n",
        "    for k in range(K):\n",
        "\n",
        "      target = Requirements['Target order from Client (quantities)'][k]\n",
        "      buffer = Requirements['Buffer to increase (if needed)'][k]\n",
        "      r = Requirements['Can item be dropped from basket?'][k]\n",
        "      lower = target * r\n",
        "      upper = target + buffer\n",
        "\n",
        "      # Purchased quantity must be above target, or 0 if class can be dropped \n",
        "      # Purchased quantity must be below target + buffer \n",
        "      Class[k] = solver.NumVar(lower, upper,f'Quantity of items of class {k}')\n",
        "\n",
        "      Constraints['Class definition'][k] = solver.Constraint(0,0)\n",
        "      Constraints['Class definition'][k].SetCoefficient(Class[k], -1.)\n",
        "      \n",
        "      for each in Price.keys():\n",
        "        if I2K[each][k]:\n",
        "          for s in range(S):\n",
        "            Constraints['Class definition'][k].SetCoefficient(Q[each, s], 1.)\n",
        "\n",
        "      # Deviation definition : Deviation_k := | Q_k - target_k |\n",
        "      Deviation[k] = solver.NumVar(0,max(target-lower,buffer),f'Excess/Lack of items of class {k}')\n",
        "      \n",
        "      Constraints['DeviationU'][k] = solver.Constraint(target, solver.infinity())\n",
        "      Constraints['DeviationU'][k].SetCoefficient(Class[k], 1)\n",
        "      Constraints['DeviationU'][k].SetCoefficient(Deviation[k], -1)\n",
        "\n",
        "      Constraints['DeviationL'][k] = solver.Constraint(target, solver.infinity())\n",
        "      Constraints['DeviationL'][k].SetCoefficient(Class[k], 1.)\n",
        "      Constraints['DeviationL'][k].SetCoefficient(Deviation[k], 1.)\n",
        "      \n",
        "\n",
        "    objective = solver.Objective()\n",
        "    for s in range(S):\n",
        "      objective.SetCoefficient(Bill[s], 1.)\n",
        "    for k in range(K):\n",
        "      objective.SetCoefficient(Deviation[k], item_class_importance[k])\n",
        "    objective.SetMinimization()\n",
        "\n",
        "    # Solve the system.\n",
        "    solver.Solve()\n",
        "    opt_solution = sum([Bill[s].solution_value() for s in range(S)])\n",
        "    print('Number of variables =', solver.NumVariables())\n",
        "    print('Number of constraints =', solver.NumConstraints())\n",
        "\n",
        "    if any([Deviation[k].solution_value() for k in range(K)]):\n",
        "      print('Targets omitted:\\n')\n",
        "      for k in range(K):\n",
        "        if Deviation[k].solution_value():\n",
        "          print(f'\\tClass {k} : {Class[k].solution_value()}\\n')\n",
        "      \n",
        "    # The value of each variable in the solution.\n",
        "    print('=================\\nSolution:')\n",
        "    print('We do not deal with suppliers : ')\n",
        "    print(','.join([f'{s}' for s in range(S) if (not Deal[s].solution_value())]))\n",
        "    for s in range(S):\n",
        "      if Bill[s].solution_value():\n",
        "        print(f'\\nSupplier {s} :')\n",
        "        for key in Price.keys():\n",
        "          if Q[key,s].solution_value():\n",
        "            print('\\t'+key+f' : {Q[key,s].solution_value():.0f}')\n",
        "        print('====================')\n",
        "        print(f'\\tTotal cost : {Bill[s].solution_value():.2f} (Minimum : {S_min_amounts[s]:.2f})')\n",
        "         \n",
        "    # The objective value of the solution.\n",
        "    print('====================')\n",
        "    print('Overall cost =', opt_solution)\n",
        "    return solver\n"
      ],
      "execution_count": 0,
      "outputs": []
    },
    {
      "cell_type": "code",
      "metadata": {
        "id": "me-WJCTDAowC",
        "colab_type": "code",
        "colab": {
          "base_uri": "https://localhost:8080/",
          "height": 1000
        },
        "outputId": "54625e83-e57c-4bad-bbee-bbcf5071a510"
      },
      "source": [
        "slover = LinearProgrammingExample()"
      ],
      "execution_count": 79,
      "outputs": [
        {
          "output_type": "stream",
          "text": [
            "Number of variables = 509\n",
            "Number of constraints = 531\n",
            "=================\n",
            "Solution:\n",
            "We do not deal with suppliers : \n",
            "0,7,9,10,11,12,13,14\n",
            "\n",
            "Supplier 1 :\n",
            "\tAPERITIVO CYNAR 900ML : 2\n",
            "\tAPERITIVO MARTINI BITTER 995ML : 2\n",
            "\tCACHACA BOAZINHA 1L : 6\n",
            "\tGIN BULLDOG 750ML : 4\n",
            "\tGIN MONKEY 47 500ML : 5\n",
            "\tGIN PLYMOUTH 750ML : 7\n",
            "\tGIN SEAGERS NEGRONI 1L : 1\n",
            "\tGIN TANQUERAY 750ML : 1\n",
            "\tBITTER ANGOSTURA ORANGE 100ML : 3\n",
            "\tCACHACA BOAZINHA 600ML : 1\n",
            "====================\n",
            "\tTotal cost : 2867.44 (Minimum : 250.00)\n",
            "\n",
            "Supplier 2 :\n",
            "\tAPERITIVO FERNET DUBAR 750ML : 6\n",
            "\tAPERITIVO RAMAZZOTTI ROSATO 700ML : 4\n",
            "\tGIN GORDONS 750ML : 1\n",
            "\tCACHACA CHICO MINEIRO PRATA 600ML : 2\n",
            "====================\n",
            "\tTotal cost : 372.29 (Minimum : 350.00)\n",
            "\n",
            "Supplier 3 :\n",
            "\tGIN MARTIN MILLERS 700ML : 6\n",
            "====================\n",
            "\tTotal cost : 997.80 (Minimum : 500.00)\n",
            "\n",
            "Supplier 4 :\n",
            "\tAPERITIVO FERNET BRANCA 750ML : 5\n",
            "\tGIN GORDONS 750ML : 2\n",
            "====================\n",
            "\tTotal cost : 644.80 (Minimum : 600.00)\n",
            "\n",
            "Supplier 5 :\n",
            "\tSKOL BEATS SENSES LATA 269ML : 8\n",
            "\tGIN GORDONS PINK 700ML : 5\n",
            "\tGIN NORDES 700ML : 3\n",
            "====================\n",
            "\tTotal cost : 859.80 (Minimum : 700.00)\n",
            "\n",
            "Supplier 6 :\n",
            "\tAPERITIVO LILET BLANC 750ML : 1\n",
            "\tGIN NORDES 700ML : 3\n",
            "====================\n",
            "\tTotal cost : 523.66 (Minimum : 500.00)\n",
            "\n",
            "Supplier 8 :\n",
            "\tAPERITIVO APEROL 750ML : 1\n",
            "\tAPERITIVO CAMPARI 900ML : 2\n",
            "\tAPERITIVO CYNAR 900ML : 2\n",
            "\tGIN BEEFEATER 750ML : 2\n",
            "====================\n",
            "\tTotal cost : 259.64 (Minimum : 250.00)\n",
            "====================\n",
            "Overall cost = 6525.43\n"
          ],
          "name": "stdout"
        }
      ]
    },
    {
      "cell_type": "code",
      "metadata": {
        "id": "Ktsxu7xxf-n6",
        "colab_type": "code",
        "colab": {
          "base_uri": "https://localhost:8080/",
          "height": 34
        },
        "outputId": "5a9c43f2-2e0e-4140-81e0-560b872359ce"
      },
      "source": [
        "round(.3345320023098898,10)"
      ],
      "execution_count": 67,
      "outputs": [
        {
          "output_type": "execute_result",
          "data": {
            "text/plain": [
              "0.3345320023"
            ]
          },
          "metadata": {
            "tags": []
          },
          "execution_count": 67
        }
      ]
    }
  ]
}